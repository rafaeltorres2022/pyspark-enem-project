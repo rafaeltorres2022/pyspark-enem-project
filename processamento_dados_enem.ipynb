{
 "cells": [
  {
   "cell_type": "code",
   "execution_count": 1,
   "metadata": {},
   "outputs": [],
   "source": [
    "import pandas, os\n",
    "from pyspark.sql import SparkSession, Window\n",
    "from pyspark.sql.types import StringType, IntegerType, FloatType, DecimalType, BooleanType\n",
    "from pyspark.sql.functions import col, lit, row_number, monotonically_increasing_id"
   ]
  },
  {
   "cell_type": "code",
   "execution_count": 2,
   "metadata": {},
   "outputs": [],
   "source": [
    "os.environ['url'] = 'jdbc:postgresql://localhost:5432/enem'\n",
    "os.environ['user'] = 'postgres'\n",
    "os.environ['password'] = 'senha'\n",
    "os.environ['driver'] = 'org.postgresql.Driver'"
   ]
  },
  {
   "cell_type": "code",
   "execution_count": 5,
   "metadata": {},
   "outputs": [],
   "source": [
    "spark = SparkSession \\\n",
    "    .builder \\\n",
    "    .appName('ENEM') \\\n",
    "    .config('spark.jars','postgresql-42.5.0.jar') \\\n",
    "    .getOrCreate()"
   ]
  },
  {
   "cell_type": "code",
   "execution_count": 6,
   "metadata": {},
   "outputs": [],
   "source": [
    "dados = spark.read.csv('DADOS\\MICRODADOS_ENEM_2021.csv', header=True, sep=';', encoding='ISO-8859-1')"
   ]
  },
  {
   "cell_type": "code",
   "execution_count": 7,
   "metadata": {},
   "outputs": [],
   "source": [
    "#Juntando cidades das escolas e da aplicação das provas\n",
    "municipios_header = ['pk_codigo_municipio', 'nome', 'codigo_uf', 'sigla_uf']\n",
    "municipios_esc = dados.select('CO_MUNICIPIO_ESC', 'NO_MUNICIPIO_ESC', 'CO_UF_ESC', 'SG_UF_ESC')\n",
    "municipios_esc = (municipios_esc.withColumnRenamed('CO_MUNICIPIO_ESC', 'pk_codigo_municipio')\n",
    "        .withColumnRenamed('NO_MUNICIPIO_ESC', 'nome')\n",
    "        .withColumnRenamed('CO_UF_ESC', 'codigo_uf')\n",
    "        .withColumnRenamed('SG_UF_ESC', 'sigla_uf')\n",
    "        )\n",
    "municipios_prova = dados.select('CO_MUNICIPIO_PROVA', 'NO_MUNICIPIO_PROVA', 'CO_UF_PROVA', 'SG_UF_PROVA')\n",
    "municipios_prova = (municipios_prova.withColumnRenamed('CO_MUNICIPIO_PROVA', 'pk_codigo_municipio')\n",
    "        .withColumnRenamed('NO_MUNICIPIO_PROVA', 'nome')\n",
    "        .withColumnRenamed('CO_UF_PROVA', 'codigo_uf')\n",
    "        .withColumnRenamed('SG_UF_PROVA', 'sigla_uf')\n",
    "        )\n",
    "municipios = municipios_esc.union(municipios_prova)\n",
    "municipios = municipios.dropDuplicates(['pk_codigo_municipio'])\n",
    "municipios = municipios.dropna()"
   ]
  },
  {
   "cell_type": "code",
   "execution_count": 8,
   "metadata": {},
   "outputs": [],
   "source": [
    "municipios.select('*').write.format('jdbc') \\\n",
    "    .option('url', os.getenv('url')) \\\n",
    "    .option('dbtable', 'municipios') \\\n",
    "    .option('driver', os.getenv('driver')) \\\n",
    "    .option('user', os.getenv('user')).option('password', os.getenv('password')).mode('append').save()\n",
    "\n",
    "del municipios\n",
    "del municipios_esc\n",
    "del municipios_prova"
   ]
  },
  {
   "cell_type": "code",
   "execution_count": 7,
   "metadata": {},
   "outputs": [],
   "source": [
    "dados = (dados\n",
    "        .withColumnRenamed('NU_INSCRICAO', 'pk_numero_inscricao')\n",
    "        .withColumnRenamed('NU_ANO', 'ano')\n",
    "        .withColumnRenamed('TP_FAIXA_ETARIA', 'fk_faixa_etaria')\n",
    "        .withColumnRenamed('TP_SEXO', 'sexo')\n",
    "        .withColumnRenamed('TP_ESTADO_CIVIL', 'fk_estado_civil')\n",
    "        .withColumnRenamed('TP_COR_RACA', 'fk_raca')\n",
    "        .withColumnRenamed('TP_NACIONALIDADE', 'fk_nacionalidade')\n",
    "        .withColumnRenamed('TP_ST_CONCLUSAO', 'fk_conclusao_em')\n",
    "        .withColumnRenamed('TP_ANO_CONCLUIU', 'fk_ano_conclusao_em')\n",
    "        .withColumnRenamed('TP_ESCOLA', 'fk_tipo_escola')\n",
    "        .withColumnRenamed('TP_ENSINO', 'fk_tipo_ensino')\n",
    "        .withColumnRenamed('IN_TREINEIRO', 'treineiro')\n",
    "        .withColumnRenamed('CO_MUNICIPIO_ESC', 'fk_codigo_municipio')\n",
    "        .withColumnRenamed('TP_DEPENDENCIA_ADM_ESC', 'fk_dependencia_adm')\n",
    "        .withColumnRenamed('TP_LOCALIZACAO_ESC', 'fk_localizacao')\n",
    "        .withColumnRenamed('TP_SIT_FUNC_ESC', 'fk_situacao_funcionamento')\n",
    "        .withColumnRenamed('CO_MUNICIPIO_PROVA', 'fk_local_aplicacao_prova')\n",
    "        .withColumnRenamed('TP_PRESENCA_CN', 'fk_presenca_prova_cn')\n",
    "        .withColumnRenamed('TP_PRESENCA_CH', 'fk_presenca_prova_ch')\n",
    "        .withColumnRenamed('TP_PRESENCA_LC', 'fk_presenca_prova_lc')\n",
    "        .withColumnRenamed('TP_PRESENCA_MT', 'fk_presenca_prova_mt')\n",
    "        .withColumnRenamed('CO_PROVA_CN','fk_codigo_prova_cn')\n",
    "        .withColumnRenamed('CO_PROVA_CH','fk_codigo_prova_ch')\n",
    "        .withColumnRenamed('CO_PROVA_LC','fk_codigo_prova_lc')\n",
    "        .withColumnRenamed('CO_PROVA_MT','fk_codigo_prova_mt')\n",
    "        .withColumnRenamed('NU_NOTA_MT','nota_mt')\n",
    "        .withColumnRenamed('NU_NOTA_LC','nota_lc')\n",
    "        .withColumnRenamed('NU_NOTA_CN','nota_cn')\n",
    "        .withColumnRenamed('NU_NOTA_CH','nota_ch')\n",
    "        .withColumnRenamed('TP_LINGUA', 'fk_prova_lingua_estrangeira')\n",
    "        .withColumnRenamed('TP_STATUS_REDACAO', 'fk_situacao_redacao')\n",
    "        .withColumnRenamed('NU_NOTA_COMP1', 'nota_competencia1')\n",
    "        .withColumnRenamed('NU_NOTA_COMP2', 'nota_competencia2')\n",
    "        .withColumnRenamed('NU_NOTA_COMP3', 'nota_competencia3')\n",
    "        .withColumnRenamed('NU_NOTA_COMP4', 'nota_competencia4')\n",
    "        .withColumnRenamed('NU_NOTA_COMP5', 'nota_competencia5')\n",
    "        .withColumnRenamed('NU_NOTA_REDACAO', 'nota_redacao')\n",
    "        )"
   ]
  },
  {
   "cell_type": "code",
   "execution_count": 10,
   "metadata": {},
   "outputs": [
    {
     "data": {
      "text/plain": [
       "DataFrame[summary: string, fk_codigo_municipio: string, fk_dependencia_adm: string, fk_localizacao: string, fk_situacao_funcionamento: string, id: string]"
      ]
     },
     "execution_count": 10,
     "metadata": {},
     "output_type": "execute_result"
    }
   ],
   "source": [
    "escolas = dados.select('fk_codigo_municipio', 'fk_dependencia_adm', 'fk_localizacao', 'fk_situacao_funcionamento')\n",
    "escolas = escolas.drop_duplicates()\n",
    "escolas = escolas.dropna()\n",
    "\n",
    "escolas = escolas.withColumn('fk_dependencia_adm', escolas['fk_dependencia_adm'].cast(IntegerType()))\n",
    "escolas = escolas.withColumn('fk_localizacao', escolas['fk_localizacao'].cast(IntegerType()))\n",
    "escolas = escolas.withColumn('fk_situacao_funcionamento', escolas['fk_situacao_funcionamento'].cast(IntegerType()))\n",
    "escolas = escolas.withColumn(\n",
    "    \"id\",\n",
    "    row_number().over(Window.orderBy(monotonically_increasing_id()))\n",
    ")"
   ]
  },
  {
   "cell_type": "code",
   "execution_count": 11,
   "metadata": {},
   "outputs": [],
   "source": [
    "escolas.select('*').write.format('jdbc') \\\n",
    "    .option('url', os.getenv('url')) \\\n",
    "    .option('dbtable', 'escolas') \\\n",
    "    .option('driver', os.getenv('driver')) \\\n",
    "    .option('user', os.getenv('user')).option('password', os.getenv('password')).mode('append').save()\n"
   ]
  },
  {
   "cell_type": "code",
   "execution_count": 12,
   "metadata": {},
   "outputs": [],
   "source": [
    "colunas = ['pk_numero_inscricao', 'fk_local_aplicacao_prova', 'sexo', 'treineiro', 'fk_codigo_municipio']\n",
    "colunas_participantes_integer = ['fk_faixa_etaria', 'fk_estado_civil', 'fk_raca', 'fk_nacionalidade',\n",
    "'fk_conclusao_em', 'fk_ano_conclusao_em', 'fk_tipo_escola', 'fk_tipo_ensino', 'fk_presenca_prova_cn',\n",
    "'fk_presenca_prova_ch', 'fk_presenca_prova_lc', 'fk_presenca_prova_mt', 'ano', 'fk_dependencia_adm', 'fk_localizacao', 'fk_situacao_funcionamento']\n",
    "\n",
    "participantes = dados.select(colunas + colunas_participantes_integer)\n",
    "for column in colunas_participantes_integer:\n",
    "    participantes = participantes.withColumn(column, col(column).cast(IntegerType()))\n",
    "participantes = participantes.withColumn('treineiro', col('treineiro').cast(BooleanType()))\n",
    "participantes = participantes.na.fill(value = 0, subset=['fk_tipo_ensino'])\n",
    "participantes = participantes.withColumn('ano', lit(2021))"
   ]
  },
  {
   "cell_type": "code",
   "execution_count": 13,
   "metadata": {},
   "outputs": [
    {
     "data": {
      "text/plain": [
       "['temp_fk_codigo_municipio',\n",
       " 'temp_fk_dependencia_adm',\n",
       " 'temp_fk_localizacao',\n",
       " 'temp_fk_situacao_funcionamento',\n",
       " 'temp_id']"
      ]
     },
     "execution_count": 13,
     "metadata": {},
     "output_type": "execute_result"
    }
   ],
   "source": [
    "escolas = escolas.selectExpr([column + ' temp_' + column for column in escolas.columns])\n",
    "escolas.columns"
   ]
  },
  {
   "cell_type": "code",
   "execution_count": 15,
   "metadata": {},
   "outputs": [],
   "source": [
    "condition = [participantes.fk_dependencia_adm == escolas.temp_fk_dependencia_adm, \\\n",
    "    participantes.fk_localizacao == escolas.temp_fk_localizacao, \\\n",
    "    participantes.fk_situacao_funcionamento == escolas.temp_fk_situacao_funcionamento, \\\n",
    "    participantes.fk_codigo_municipio == escolas.temp_fk_codigo_municipio]\n",
    "participantes = participantes.join(escolas, condition, how='left').withColumnRenamed('temp_id', 'fk_escola')\n",
    "participantes = participantes.drop('temp_fk_codigo_municipio', 'temp_fk_dependencia_adm', 'temp_fk_localizacao',\n",
    "'temp_fk_situacao_funcionamento', 'fk_codigo_municipio', 'fk_dependencia_adm', 'fk_localizacao',\n",
    "'fk_situacao_funcionamento')"
   ]
  },
  {
   "cell_type": "code",
   "execution_count": 17,
   "metadata": {},
   "outputs": [],
   "source": [
    "participantes.select('*').write.format('jdbc') \\\n",
    "    .option('url', os.getenv('url')) \\\n",
    "    .option('dbtable', 'participantes') \\\n",
    "    .option('driver', os.getenv('driver')) \\\n",
    "    .option('user', os.getenv('user')).option('password', os.getenv('password')).mode('append').save()\n",
    "\n",
    "del participantes\n",
    "del escolas\n",
    "del colunas\n",
    "del colunas_participantes_integer"
   ]
  },
  {
   "cell_type": "code",
   "execution_count": 18,
   "metadata": {},
   "outputs": [],
   "source": [
    "#Deve ter um jeito melhor de fazer isso\n",
    "colunas_tabela_prova = ['pk_numero_inscricao', 'fk_codigo_prova_cn', 'fk_codigo_prova_ch',\n",
    "'fk_codigo_prova_lc', 'fk_codigo_prova_mt', 'nota_cn', 'nota_ch', 'nota_lc', 'nota_mt', 'fk_prova_lingua_estrangeira']\n",
    "colunas_tabela_prova_int = ['fk_codigo_prova_cn', 'fk_codigo_prova_ch',\n",
    "'fk_codigo_prova_lc', 'fk_codigo_prova_mt', 'fk_prova_lingua_estrangeira']\n",
    "colunas_tabela_prova_float = ['nota_cn', 'nota_ch', 'nota_lc', 'nota_mt']\n",
    "resultados_provas_objetivas = dados.select(colunas_tabela_prova)\n",
    "for column in colunas_tabela_prova_int:\n",
    "    resultados_provas_objetivas = resultados_provas_objetivas.withColumn(column, col(column).cast(IntegerType()))\n",
    "for column in colunas_tabela_prova_float:    \n",
    "    resultados_provas_objetivas = resultados_provas_objetivas.withColumn(column, col(column).cast(FloatType()))\n",
    "resultados_provas_objetivas = resultados_provas_objetivas.withColumnRenamed('pk_numero_inscricao', 'fk_numero_inscricao')\n",
    "resultados_provas_objetivas = resultados_provas_objetivas.withColumn(\n",
    "    \"id\",\n",
    "    row_number().over(Window.orderBy(monotonically_increasing_id()))\n",
    ")\n",
    "\n",
    "resultados_provas_objetivas = resultados_provas_objetivas.na.fill(value = 0, subset=['nota_cn', 'nota_ch', 'nota_lc', 'nota_mt'])"
   ]
  },
  {
   "cell_type": "code",
   "execution_count": 19,
   "metadata": {},
   "outputs": [],
   "source": [
    "resultados_provas_objetivas.select('*').write.format('jdbc') \\\n",
    "    .option('url', os.getenv('url')) \\\n",
    "    .option('dbtable', 'resultados_provas_objetivas') \\\n",
    "    .option('driver', os.getenv('driver')) \\\n",
    "    .option('user', os.getenv('user')).option('password', os.getenv('password')).mode('append').save()\n",
    "\n",
    "del resultados_provas_objetivas"
   ]
  },
  {
   "cell_type": "code",
   "execution_count": 8,
   "metadata": {},
   "outputs": [],
   "source": [
    "colunas = ['pk_numero_inscricao']\n",
    "colunas_integer = ['fk_situacao_redacao', 'nota_competencia1', 'nota_competencia2', 'nota_competencia3',\n",
    "'nota_competencia4', 'nota_competencia5', 'nota_redacao']\n",
    "\n",
    "redacoes = dados.select(colunas+colunas_integer)\n",
    "for column in colunas_integer:\n",
    "    redacoes = redacoes.withColumn(column, col(column).cast(IntegerType()))\n",
    "redacoes = redacoes.withColumnRenamed('pk_numero_inscricao', 'fk_numero_inscricao')\n",
    "redacoes = redacoes.withColumn(\n",
    "    \"id\",\n",
    "    row_number().over(Window.orderBy(monotonically_increasing_id()))\n",
    ")\n",
    "\n",
    "redacoes = redacoes.na.fill(value = 10, subset=['fk_situacao_redacao'])\n",
    "redacoes = redacoes.na.fill(value = 0, subset=['nota_competencia1', 'nota_competencia2', 'nota_competencia3',\n",
    "'nota_competencia4', 'nota_competencia5', 'nota_redacao'])"
   ]
  },
  {
   "cell_type": "code",
   "execution_count": 9,
   "metadata": {},
   "outputs": [],
   "source": [
    "redacoes.select('*').write.format('jdbc') \\\n",
    "    .option('url', os.getenv('url')) \\\n",
    "    .option('dbtable', 'redacoes') \\\n",
    "    .option('driver', os.getenv('driver')) \\\n",
    "    .option('user', os.getenv('user')).option('password', os.getenv('password')).mode('append').save()\n",
    "\n",
    "del redacoes"
   ]
  }
 ],
 "metadata": {
  "kernelspec": {
   "display_name": "Python 3.10.6 ('dados-enem-env': venv)",
   "language": "python",
   "name": "python3"
  },
  "language_info": {
   "codemirror_mode": {
    "name": "ipython",
    "version": 3
   },
   "file_extension": ".py",
   "mimetype": "text/x-python",
   "name": "python",
   "nbconvert_exporter": "python",
   "pygments_lexer": "ipython3",
   "version": "3.10.8"
  },
  "orig_nbformat": 4,
  "vscode": {
   "interpreter": {
    "hash": "7de5d731dc92b4be70037e3e0c94f35d412dfe57cff5c36079d6012b023017ba"
   }
  }
 },
 "nbformat": 4,
 "nbformat_minor": 2
}
